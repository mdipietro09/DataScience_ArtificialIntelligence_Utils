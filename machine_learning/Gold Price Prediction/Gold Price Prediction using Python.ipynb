{
 "cells": [
  {
   "cell_type": "markdown",
   "id": "2624b314",
   "metadata": {},
   "source": [
    "WORKFLOW OF THE PROJECT\n",
    "\n",
    "* Data Collection - https://www.kaggle.com/datasets/altruistdelhite04/gold-price-data\n",
    "* Data Preprocessing\n",
    "* Data Analysis\n",
    "* Train Test Split\n",
    "* Random Forest Regression Algorithm"
   ]
  },
  {
   "cell_type": "markdown",
   "id": "af4b5d4d",
   "metadata": {},
   "source": [
    "Importing the required libraries for the task"
   ]
  },
  {
   "cell_type": "code",
   "execution_count": 1,
   "id": "11612ab0",
   "metadata": {},
   "outputs": [],
   "source": [
    "import numpy as np  #to convert data into numpy arrays\n",
    "import pandas as pd #for data pre-processing technique and importing our data\n",
    "import matplotlib.pyplot as plt #for creating data visualizations to explore the data\n",
    "import seaborn as sns #for making such visualizations and creating plots\n",
    "from sklearn.model_selection import train_test_split #to divide our original data into training data and testing data\n",
    "from sklearn.ensemble import RandomForestRegressor #to build our regression type ml model \n",
    "from sklearn import metrics #to evaluate the accuracy of our ml model"
   ]
  },
  {
   "cell_type": "markdown",
   "id": "50ad5521",
   "metadata": {},
   "source": [
    "Data Collection and processing"
   ]
  },
  {
   "cell_type": "code",
   "execution_count": 2,
   "id": "c12f332a",
   "metadata": {},
   "outputs": [
    {
     "data": {
      "text/html": [
       "<div>\n",
       "<style scoped>\n",
       "    .dataframe tbody tr th:only-of-type {\n",
       "        vertical-align: middle;\n",
       "    }\n",
       "\n",
       "    .dataframe tbody tr th {\n",
       "        vertical-align: top;\n",
       "    }\n",
       "\n",
       "    .dataframe thead th {\n",
       "        text-align: right;\n",
       "    }\n",
       "</style>\n",
       "<table border=\"1\" class=\"dataframe\">\n",
       "  <thead>\n",
       "    <tr style=\"text-align: right;\">\n",
       "      <th></th>\n",
       "      <th>Date</th>\n",
       "      <th>SPX</th>\n",
       "      <th>GLD</th>\n",
       "      <th>USO</th>\n",
       "      <th>SLV</th>\n",
       "      <th>EUR/USD</th>\n",
       "    </tr>\n",
       "  </thead>\n",
       "  <tbody>\n",
       "    <tr>\n",
       "      <th>0</th>\n",
       "      <td>1/2/2008</td>\n",
       "      <td>1447.160034</td>\n",
       "      <td>84.860001</td>\n",
       "      <td>78.470001</td>\n",
       "      <td>15.180</td>\n",
       "      <td>1.471692</td>\n",
       "    </tr>\n",
       "    <tr>\n",
       "      <th>1</th>\n",
       "      <td>1/3/2008</td>\n",
       "      <td>1447.160034</td>\n",
       "      <td>85.570000</td>\n",
       "      <td>78.370003</td>\n",
       "      <td>15.285</td>\n",
       "      <td>1.474491</td>\n",
       "    </tr>\n",
       "    <tr>\n",
       "      <th>2</th>\n",
       "      <td>1/4/2008</td>\n",
       "      <td>1411.630005</td>\n",
       "      <td>85.129997</td>\n",
       "      <td>77.309998</td>\n",
       "      <td>15.167</td>\n",
       "      <td>1.475492</td>\n",
       "    </tr>\n",
       "    <tr>\n",
       "      <th>3</th>\n",
       "      <td>1/7/2008</td>\n",
       "      <td>1416.180054</td>\n",
       "      <td>84.769997</td>\n",
       "      <td>75.500000</td>\n",
       "      <td>15.053</td>\n",
       "      <td>1.468299</td>\n",
       "    </tr>\n",
       "    <tr>\n",
       "      <th>4</th>\n",
       "      <td>1/8/2008</td>\n",
       "      <td>1390.189941</td>\n",
       "      <td>86.779999</td>\n",
       "      <td>76.059998</td>\n",
       "      <td>15.590</td>\n",
       "      <td>1.557099</td>\n",
       "    </tr>\n",
       "  </tbody>\n",
       "</table>\n",
       "</div>"
      ],
      "text/plain": [
       "       Date          SPX        GLD        USO     SLV   EUR/USD\n",
       "0  1/2/2008  1447.160034  84.860001  78.470001  15.180  1.471692\n",
       "1  1/3/2008  1447.160034  85.570000  78.370003  15.285  1.474491\n",
       "2  1/4/2008  1411.630005  85.129997  77.309998  15.167  1.475492\n",
       "3  1/7/2008  1416.180054  84.769997  75.500000  15.053  1.468299\n",
       "4  1/8/2008  1390.189941  86.779999  76.059998  15.590  1.557099"
      ]
     },
     "execution_count": 2,
     "metadata": {},
     "output_type": "execute_result"
    }
   ],
   "source": [
    "#loading the dataset into a variable data and printing the first 5 values\n",
    "data = pd.read_csv('D:\\Machine Learning with Python\\Gold Prediction using Python\\gld_price_data.csv')\n",
    "data.head()"
   ]
  },
  {
   "cell_type": "code",
   "execution_count": 3,
   "id": "b3f33ea8",
   "metadata": {},
   "outputs": [
    {
     "data": {
      "text/html": [
       "<div>\n",
       "<style scoped>\n",
       "    .dataframe tbody tr th:only-of-type {\n",
       "        vertical-align: middle;\n",
       "    }\n",
       "\n",
       "    .dataframe tbody tr th {\n",
       "        vertical-align: top;\n",
       "    }\n",
       "\n",
       "    .dataframe thead th {\n",
       "        text-align: right;\n",
       "    }\n",
       "</style>\n",
       "<table border=\"1\" class=\"dataframe\">\n",
       "  <thead>\n",
       "    <tr style=\"text-align: right;\">\n",
       "      <th></th>\n",
       "      <th>Date</th>\n",
       "      <th>SPX</th>\n",
       "      <th>GLD</th>\n",
       "      <th>USO</th>\n",
       "      <th>SLV</th>\n",
       "      <th>EUR/USD</th>\n",
       "    </tr>\n",
       "  </thead>\n",
       "  <tbody>\n",
       "    <tr>\n",
       "      <th>2285</th>\n",
       "      <td>5/8/2018</td>\n",
       "      <td>2671.919922</td>\n",
       "      <td>124.589996</td>\n",
       "      <td>14.0600</td>\n",
       "      <td>15.5100</td>\n",
       "      <td>1.186789</td>\n",
       "    </tr>\n",
       "    <tr>\n",
       "      <th>2286</th>\n",
       "      <td>5/9/2018</td>\n",
       "      <td>2697.790039</td>\n",
       "      <td>124.330002</td>\n",
       "      <td>14.3700</td>\n",
       "      <td>15.5300</td>\n",
       "      <td>1.184722</td>\n",
       "    </tr>\n",
       "    <tr>\n",
       "      <th>2287</th>\n",
       "      <td>5/10/2018</td>\n",
       "      <td>2723.070068</td>\n",
       "      <td>125.180000</td>\n",
       "      <td>14.4100</td>\n",
       "      <td>15.7400</td>\n",
       "      <td>1.191753</td>\n",
       "    </tr>\n",
       "    <tr>\n",
       "      <th>2288</th>\n",
       "      <td>5/14/2018</td>\n",
       "      <td>2730.129883</td>\n",
       "      <td>124.489998</td>\n",
       "      <td>14.3800</td>\n",
       "      <td>15.5600</td>\n",
       "      <td>1.193118</td>\n",
       "    </tr>\n",
       "    <tr>\n",
       "      <th>2289</th>\n",
       "      <td>5/16/2018</td>\n",
       "      <td>2725.780029</td>\n",
       "      <td>122.543800</td>\n",
       "      <td>14.4058</td>\n",
       "      <td>15.4542</td>\n",
       "      <td>1.182033</td>\n",
       "    </tr>\n",
       "  </tbody>\n",
       "</table>\n",
       "</div>"
      ],
      "text/plain": [
       "           Date          SPX         GLD      USO      SLV   EUR/USD\n",
       "2285   5/8/2018  2671.919922  124.589996  14.0600  15.5100  1.186789\n",
       "2286   5/9/2018  2697.790039  124.330002  14.3700  15.5300  1.184722\n",
       "2287  5/10/2018  2723.070068  125.180000  14.4100  15.7400  1.191753\n",
       "2288  5/14/2018  2730.129883  124.489998  14.3800  15.5600  1.193118\n",
       "2289  5/16/2018  2725.780029  122.543800  14.4058  15.4542  1.182033"
      ]
     },
     "execution_count": 3,
     "metadata": {},
     "output_type": "execute_result"
    }
   ],
   "source": [
    "data.tail()"
   ]
  },
  {
   "cell_type": "code",
   "execution_count": 4,
   "id": "8a55b801",
   "metadata": {},
   "outputs": [
    {
     "data": {
      "text/plain": [
       "(2290, 6)"
      ]
     },
     "execution_count": 4,
     "metadata": {},
     "output_type": "execute_result"
    }
   ],
   "source": [
    "data.shape"
   ]
  },
  {
   "cell_type": "code",
   "execution_count": 5,
   "id": "964a587f",
   "metadata": {},
   "outputs": [
    {
     "name": "stdout",
     "output_type": "stream",
     "text": [
      "<class 'pandas.core.frame.DataFrame'>\n",
      "RangeIndex: 2290 entries, 0 to 2289\n",
      "Data columns (total 6 columns):\n",
      " #   Column   Non-Null Count  Dtype  \n",
      "---  ------   --------------  -----  \n",
      " 0   Date     2290 non-null   object \n",
      " 1   SPX      2290 non-null   float64\n",
      " 2   GLD      2290 non-null   float64\n",
      " 3   USO      2290 non-null   float64\n",
      " 4   SLV      2290 non-null   float64\n",
      " 5   EUR/USD  2290 non-null   float64\n",
      "dtypes: float64(5), object(1)\n",
      "memory usage: 107.5+ KB\n"
     ]
    }
   ],
   "source": [
    "data.info()"
   ]
  },
  {
   "cell_type": "markdown",
   "id": "2ea8c19c",
   "metadata": {},
   "source": [
    "From the above info, we can say that there is no missing data in the dataset and hence doesn't need much Data Preprocessing."
   ]
  },
  {
   "cell_type": "code",
   "execution_count": 6,
   "id": "55881a17",
   "metadata": {},
   "outputs": [
    {
     "data": {
      "text/plain": [
       "Date       0\n",
       "SPX        0\n",
       "GLD        0\n",
       "USO        0\n",
       "SLV        0\n",
       "EUR/USD    0\n",
       "dtype: int64"
      ]
     },
     "execution_count": 6,
     "metadata": {},
     "output_type": "execute_result"
    }
   ],
   "source": [
    "data.isnull().sum()"
   ]
  },
  {
   "cell_type": "code",
   "execution_count": 7,
   "id": "9cbc6486",
   "metadata": {},
   "outputs": [
    {
     "data": {
      "text/html": [
       "<div>\n",
       "<style scoped>\n",
       "    .dataframe tbody tr th:only-of-type {\n",
       "        vertical-align: middle;\n",
       "    }\n",
       "\n",
       "    .dataframe tbody tr th {\n",
       "        vertical-align: top;\n",
       "    }\n",
       "\n",
       "    .dataframe thead th {\n",
       "        text-align: right;\n",
       "    }\n",
       "</style>\n",
       "<table border=\"1\" class=\"dataframe\">\n",
       "  <thead>\n",
       "    <tr style=\"text-align: right;\">\n",
       "      <th></th>\n",
       "      <th>SPX</th>\n",
       "      <th>GLD</th>\n",
       "      <th>USO</th>\n",
       "      <th>SLV</th>\n",
       "      <th>EUR/USD</th>\n",
       "    </tr>\n",
       "  </thead>\n",
       "  <tbody>\n",
       "    <tr>\n",
       "      <th>count</th>\n",
       "      <td>2290.000000</td>\n",
       "      <td>2290.000000</td>\n",
       "      <td>2290.000000</td>\n",
       "      <td>2290.000000</td>\n",
       "      <td>2290.000000</td>\n",
       "    </tr>\n",
       "    <tr>\n",
       "      <th>mean</th>\n",
       "      <td>1654.315776</td>\n",
       "      <td>122.732875</td>\n",
       "      <td>31.842221</td>\n",
       "      <td>20.084997</td>\n",
       "      <td>1.283653</td>\n",
       "    </tr>\n",
       "    <tr>\n",
       "      <th>std</th>\n",
       "      <td>519.111540</td>\n",
       "      <td>23.283346</td>\n",
       "      <td>19.523517</td>\n",
       "      <td>7.092566</td>\n",
       "      <td>0.131547</td>\n",
       "    </tr>\n",
       "    <tr>\n",
       "      <th>min</th>\n",
       "      <td>676.530029</td>\n",
       "      <td>70.000000</td>\n",
       "      <td>7.960000</td>\n",
       "      <td>8.850000</td>\n",
       "      <td>1.039047</td>\n",
       "    </tr>\n",
       "    <tr>\n",
       "      <th>25%</th>\n",
       "      <td>1239.874969</td>\n",
       "      <td>109.725000</td>\n",
       "      <td>14.380000</td>\n",
       "      <td>15.570000</td>\n",
       "      <td>1.171313</td>\n",
       "    </tr>\n",
       "    <tr>\n",
       "      <th>50%</th>\n",
       "      <td>1551.434998</td>\n",
       "      <td>120.580002</td>\n",
       "      <td>33.869999</td>\n",
       "      <td>17.268500</td>\n",
       "      <td>1.303297</td>\n",
       "    </tr>\n",
       "    <tr>\n",
       "      <th>75%</th>\n",
       "      <td>2073.010070</td>\n",
       "      <td>132.840004</td>\n",
       "      <td>37.827501</td>\n",
       "      <td>22.882500</td>\n",
       "      <td>1.369971</td>\n",
       "    </tr>\n",
       "    <tr>\n",
       "      <th>max</th>\n",
       "      <td>2872.870117</td>\n",
       "      <td>184.589996</td>\n",
       "      <td>117.480003</td>\n",
       "      <td>47.259998</td>\n",
       "      <td>1.598798</td>\n",
       "    </tr>\n",
       "  </tbody>\n",
       "</table>\n",
       "</div>"
      ],
      "text/plain": [
       "               SPX          GLD          USO          SLV      EUR/USD\n",
       "count  2290.000000  2290.000000  2290.000000  2290.000000  2290.000000\n",
       "mean   1654.315776   122.732875    31.842221    20.084997     1.283653\n",
       "std     519.111540    23.283346    19.523517     7.092566     0.131547\n",
       "min     676.530029    70.000000     7.960000     8.850000     1.039047\n",
       "25%    1239.874969   109.725000    14.380000    15.570000     1.171313\n",
       "50%    1551.434998   120.580002    33.869999    17.268500     1.303297\n",
       "75%    2073.010070   132.840004    37.827501    22.882500     1.369971\n",
       "max    2872.870117   184.589996   117.480003    47.259998     1.598798"
      ]
     },
     "execution_count": 7,
     "metadata": {},
     "output_type": "execute_result"
    }
   ],
   "source": [
    "data.describe()"
   ]
  },
  {
   "cell_type": "markdown",
   "id": "b2bbeefb",
   "metadata": {},
   "source": [
    "Correlation between various types of datasets\n"
   ]
  },
  {
   "cell_type": "markdown",
   "id": "aa14ebac",
   "metadata": {},
   "source": [
    "1. Postive Correlation - When two columns of a dataset are directly proportional to each other.\n",
    "2. Negative Correlation - When two columns of a dataset are indirectly proportional to each other."
   ]
  },
  {
   "cell_type": "markdown",
   "id": "8a2844df",
   "metadata": {},
   "source": [
    "Creating a heatmap to understand the correlation between different columns"
   ]
  },
  {
   "cell_type": "code",
   "execution_count": 8,
   "metadata": {
    "collapsed": false
   },
   "outputs": [],
   "source": [
    "correlation = data.corr()"
   ]
  },
  {
   "cell_type": "code",
   "execution_count": 9,
   "id": "6cd65a12",
   "metadata": {},
   "outputs": [
    {
     "data": {
      "text/plain": [
       "<AxesSubplot:>"
      ]
     },
     "execution_count": 9,
     "metadata": {},
     "output_type": "execute_result"
    },
    {
     "data": {
      "image/png": "[encoded data removed]",
      "text/plain": [
       "<Figure size 720x720 with 2 Axes>"
      ]
     },
     "metadata": {},
     "output_type": "display_data"
    }
   ],
   "source": [
    "plt.figure(figsize = (10,10))\n",
    "sns.heatmap(correlation, cbar=True, square=True, annot=True)"
   ]
  },
  {
   "cell_type": "code",
   "execution_count": 10,
   "id": "df610f34",
   "metadata": {},
   "outputs": [
    {
     "name": "stdout",
     "output_type": "stream",
     "text": [
      "SPX        0.049345\n",
      "GLD        1.000000\n",
      "USO       -0.186360\n",
      "SLV        0.866632\n",
      "EUR/USD   -0.024375\n",
      "Name: GLD, dtype: float64\n"
     ]
    }
   ],
   "source": [
    "#correlation values of GLD\n",
    "print(correlation['GLD'])"
   ]
  },
  {
   "cell_type": "code",
   "execution_count": 11,
   "id": "7a6d6279",
   "metadata": {},
   "outputs": [
    {
     "name": "stderr",
     "output_type": "stream",
     "text": [
      "C:\\Users\\HP\\anaconda3\\lib\\site-packages\\seaborn\\distributions.py:2619: FutureWarning: `distplot` is a deprecated function and will be removed in a future version. Please adapt your code to use either `displot` (a figure-level function with similar flexibility) or `histplot` (an axes-level function for histograms).\n",
      "  warnings.warn(msg, FutureWarning)\n"
     ]
    },
    {
     "data": {
      "text/plain": [
       "<AxesSubplot:xlabel='GLD', ylabel='Density'>"
      ]
     },
     "execution_count": 11,
     "metadata": {},
     "output_type": "execute_result"
    },
    {
     "data": {
      "image/png": "[encoded data removed]",
      "text/plain": [
       "<Figure size 432x288 with 1 Axes>"
      ]
     },
     "metadata": {},
     "output_type": "display_data"
    }
   ],
   "source": [
    "sns.distplot(data['GLD'],color='green')"
   ]
  },
  {
   "cell_type": "code",
   "execution_count": 12,
   "id": "e72c90a5",
   "metadata": {},
   "outputs": [],
   "source": [
    "X = data.drop(['Date','GLD'],axis=1)\n",
    "Y = data['GLD']"
   ]
  },
  {
   "cell_type": "code",
   "execution_count": 13,
   "id": "e002566e",
   "metadata": {},
   "outputs": [
    {
     "name": "stdout",
     "output_type": "stream",
     "text": [
      "              SPX        USO      SLV   EUR/USD\n",
      "0     1447.160034  78.470001  15.1800  1.471692\n",
      "1     1447.160034  78.370003  15.2850  1.474491\n",
      "2     1411.630005  77.309998  15.1670  1.475492\n",
      "3     1416.180054  75.500000  15.0530  1.468299\n",
      "4     1390.189941  76.059998  15.5900  1.557099\n",
      "...           ...        ...      ...       ...\n",
      "2285  2671.919922  14.060000  15.5100  1.186789\n",
      "2286  2697.790039  14.370000  15.5300  1.184722\n",
      "2287  2723.070068  14.410000  15.7400  1.191753\n",
      "2288  2730.129883  14.380000  15.5600  1.193118\n",
      "2289  2725.780029  14.405800  15.4542  1.182033\n",
      "\n",
      "[2290 rows x 4 columns]\n"
     ]
    }
   ],
   "source": [
    "print(X)"
   ]
  },
  {
   "cell_type": "code",
   "execution_count": 14,
   "id": "4b5bf03f",
   "metadata": {},
   "outputs": [
    {
     "name": "stdout",
     "output_type": "stream",
     "text": [
      "0        84.860001\n",
      "1        85.570000\n",
      "2        85.129997\n",
      "3        84.769997\n",
      "4        86.779999\n",
      "           ...    \n",
      "2285    124.589996\n",
      "2286    124.330002\n",
      "2287    125.180000\n",
      "2288    124.489998\n",
      "2289    122.543800\n",
      "Name: GLD, Length: 2290, dtype: float64\n"
     ]
    }
   ],
   "source": [
    "print(Y)"
   ]
  },
  {
   "cell_type": "markdown",
   "id": "6b83b6a4",
   "metadata": {},
   "source": [
    "Train Test Split Data"
   ]
  },
  {
   "cell_type": "code",
   "execution_count": 15,
   "id": "e7d98dc4",
   "metadata": {},
   "outputs": [],
   "source": [
    "X_train, X_test, Y_train, Y_test = train_test_split(X, Y, test_size = 0.2, random_state=2)"
   ]
  },
  {
   "cell_type": "markdown",
   "id": "3cb27839",
   "metadata": {},
   "source": [
    "Model Training: Random Forest Regressor"
   ]
  },
  {
   "cell_type": "code",
   "execution_count": 16,
   "id": "6d4b26be",
   "metadata": {},
   "outputs": [],
   "source": [
    "regressor = RandomForestRegressor(n_estimators=100)"
   ]
  },
  {
   "cell_type": "code",
   "execution_count": 17,
   "id": "001f467a",
   "metadata": {},
   "outputs": [
    {
     "data": {
      "text/plain": [
       "RandomForestRegressor()"
      ]
     },
     "execution_count": 17,
     "metadata": {},
     "output_type": "execute_result"
    }
   ],
   "source": [
    "regressor.fit(X_train,Y_train)"
   ]
  },
  {
   "cell_type": "markdown",
   "metadata": {
    "collapsed": false
   },
   "source": [
    "Model Evaluation"
   ]
  },
  {
   "cell_type": "code",
   "execution_count": 18,
   "metadata": {
    "collapsed": false
   },
   "outputs": [],
   "source": [
    "test_data_prediction = regressor.predict(X_test)"
   ]
  },
  {
   "cell_type": "code",
   "execution_count": 19,
   "metadata": {
    "collapsed": false
   },
   "outputs": [
    {
     "name": "stdout",
     "output_type": "stream",
     "text": [
      "[168.25249941  82.1239997  115.79300039 127.75200054 120.59920138\n",
      " 154.70329743 150.58369808 126.2130001  117.54259851 126.04730083\n",
      " 116.82720105 172.03890062 141.65299913 167.98119857 115.33880058\n",
      " 117.51320035 138.70040327 169.54529989 159.13770344 157.52139914\n",
      " 155.13820078 125.08249994 176.23309946 156.85090364 125.19240051\n",
      "  93.8252999   78.3565997  120.79639983 119.09669951 167.46839997\n",
      "  88.20780066 125.37040053  91.07560097 117.57950037 121.01909918\n",
      " 136.58870035 115.41640119 115.07370103 148.07599992 106.91190086\n",
      " 104.61720229  87.22389786 126.51000077 118.1599003  152.86439894\n",
      " 119.64019986 108.36540021 107.95499794  93.0961     127.13409781\n",
      "  74.95430027 113.69709909 121.43889994 111.41759937 118.92019925\n",
      " 120.80949911 158.87769952 167.22290159 146.86669645  85.87879878\n",
      "  94.41080038  86.9451987   90.5184002  119.01700089 126.40520099\n",
      " 127.6541004  170.84510018 122.32349942 117.54329876  98.39570015\n",
      " 167.5890012  142.75439781 131.99800273 121.11480217 121.43759936\n",
      " 119.67060059 114.49100144 118.28630057 106.78740076 127.9350008\n",
      " 113.54959958 107.06990018 116.99720053 119.62009883  89.05190069\n",
      "  88.3229987  146.00610257 127.55670044 113.41839992 110.14659868\n",
      " 108.15389904  76.93179909 169.98210201 113.94379901 121.43969941\n",
      " 127.77460132 154.9109978   91.61949947 135.59910078 159.57350233\n",
      " 125.00240085 125.38180061 130.59070119 114.86640129 119.82200017\n",
      "  92.18179979 110.16189888 167.69349942 158.13199843 114.14049931\n",
      " 106.72800107  79.83519948 113.3436005  125.78800115 107.19409898\n",
      " 119.37030088 156.33590331 159.82509952 120.24819993 134.82110357\n",
      " 101.57529997 117.44279811 119.37630007 112.94610084 102.80389896\n",
      " 160.19519747  99.02920046 146.89219867 125.59830138 169.81519915\n",
      " 125.86839893 127.30809704 127.47680179 113.6734992  112.96600055\n",
      " 123.63379915 102.18129871  89.28029973 124.43469979 101.79439942\n",
      " 107.10619918 113.35620062 117.11460061  99.20929937 121.83560004\n",
      " 163.67689888  87.35159882 106.84629975 117.32310053 127.80120112\n",
      " 123.93940052  80.75299922 120.21370073 158.5630974   87.96449964\n",
      " 110.25649976 118.89079915 172.59449885 103.02559893 105.34330053\n",
      " 122.49610028 159.03439725  87.27799813  92.86810036 112.81960026\n",
      " 177.24119939 114.61049988 119.31870022  94.54740078 125.54370069\n",
      " 166.22260084 114.71640101 117.01780095  88.33999871 149.36330095\n",
      " 120.25439954  89.48450007 111.72700006 117.22240038 118.69420116\n",
      "  88.06099937  94.18829972 116.93750027 118.5561019  120.28770038\n",
      " 126.7535982  121.83619992 149.31149993 164.86030042 118.56449979\n",
      " 120.37120145 150.74540033 118.56089916 173.23799936 105.16229931\n",
      " 104.95590094 149.8619011  113.70750017 124.81420132 147.37789919\n",
      " 119.73660123 115.27820038 112.86009992 113.51780201 140.83990116\n",
      " 117.79029767 102.89380046 115.90110098 103.96990152  98.5457003\n",
      " 117.38640057  90.73820036  91.69700054 153.61509897 102.80509954\n",
      " 154.58410091 114.45990161 139.39230104  90.21159853 115.44229936\n",
      " 114.40639979 122.80140026 121.74910036 165.11610194  92.87939938\n",
      " 135.25840125 121.33999934 120.7066008  104.50270031 142.87510276\n",
      " 122.27419916 116.69710053 113.31570083 127.25649744 122.82739958\n",
      " 125.76629996 121.17060052  86.91029906 132.51010128 145.06650189\n",
      "  92.68389948 159.75369934 159.37360209 126.15359953 165.00439956\n",
      " 108.80029957 109.82540141 103.66559849  94.41319952 127.6657025\n",
      " 107.34670034 161.73439956 121.73099998 132.12950055 130.63940115\n",
      " 160.34409954  90.15889913 175.13610256 127.58080081 126.96359834\n",
      "  86.43639913 124.63549973 149.9798974   89.59630017 106.92429964\n",
      " 108.98720001  84.37759897 136.31340078 155.00680294 139.0933043\n",
      "  74.08860027 152.14390077 126.56960013 126.7011001  127.42169936\n",
      " 108.58389969 156.08730008 114.59910109 116.83460089 125.40359987\n",
      " 154.14570081 121.37710015 156.48799852  93.05970081 125.4992015\n",
      " 125.32880013  87.65060038  92.20479899 126.27249964 128.25990391\n",
      " 113.11120072 117.65469719 121.10540008 127.33679794 119.60560127\n",
      " 136.66560074  94.02989992 119.85880043 113.12760112  94.28429954\n",
      " 108.86230006  87.32319951 109.15759943  89.57189953  92.3411002\n",
      " 131.58400268 162.5193006   89.25259999 119.58530082 133.36120161\n",
      " 123.888      128.45860176 101.94839843  89.20019889 131.93080074\n",
      " 120.00420055 108.58170004 166.7392011  115.05340038  86.57749925\n",
      " 118.85930063  91.04539961 161.91419974 116.60640056 121.38650008\n",
      " 160.31129836 120.05569927 112.44439967 108.35159865 126.69729995\n",
      "  75.91730042 103.04409972 127.55450255 121.76829926  92.60770011\n",
      " 131.78680075 118.40660069 115.9373995  154.63660286 159.48660068\n",
      " 110.15099965 155.48529871 119.19950095 160.68730055 118.73640024\n",
      " 158.93549889 115.1128992  116.64650027 149.04429903 114.92190087\n",
      " 125.80229882 165.60799778 117.56290031 125.19629961 153.37890322\n",
      " 153.49030224 132.21730114 114.80060041 121.23740208 124.79320058\n",
      "  89.80580044 123.14370008 154.32910232 111.63170028 106.78819999\n",
      " 161.35600085 118.46249931 165.63739972 134.02220138 115.2227995\n",
      " 153.00999906 168.74210038 114.21440052 114.0487014  157.82759815\n",
      "  85.22249908 126.98980105 127.9669008  128.84120028 124.25190061\n",
      " 123.87010082  90.58890048 153.30219983  97.13639971 137.49169955\n",
      "  89.01999928 106.97500027 115.08330059 112.85820053 124.25459932\n",
      "  91.39869908 125.23230126 162.37159839 119.93239858 165.11760067\n",
      " 126.7278981  112.36700009 127.68729929  95.28169857  90.93149982\n",
      " 103.06059908 120.89459985  83.49499966 126.23639992 160.31410484\n",
      " 117.1754009  118.39570003 120.07379988 122.63229937 120.04190126\n",
      " 121.63869961 118.21230048 107.24449976 148.35930003 126.23899895\n",
      " 115.75190109  74.06570015 127.81740095 154.91360086 121.96180018\n",
      " 125.68370077  88.75120019 103.10199883 124.90340062 120.2721001\n",
      "  73.41860088 151.34480083 120.99490069 104.54390031  86.76619813\n",
      " 114.98499932 172.23939835 119.89580064 160.03579863 113.1632993\n",
      " 120.77489986 118.80970074  96.04139982 118.88919989 125.66860049\n",
      " 118.48089959  96.03270032 153.93910193 122.04030034 147.33959955\n",
      " 159.47990151 113.50240052 122.54459948 150.17039801 126.7806002\n",
      " 165.70950076 135.70380001 120.18379955 167.79329842 108.30699924\n",
      " 121.80449864 139.11140078 106.3652991 ]\n"
     ]
    }
   ],
   "source": [
    "print(test_data_prediction)"
   ]
  },
  {
   "cell_type": "markdown",
   "metadata": {
    "collapsed": false
   },
   "source": [
    "Evaluation of performance of the model"
   ]
  },
  {
   "cell_type": "code",
   "execution_count": 20,
   "metadata": {
    "collapsed": false
   },
   "outputs": [],
   "source": [
    "# R squared error\n",
    "error_score = metrics.r2_score(Y_test,test_data_prediction)"
   ]
  },
  {
   "cell_type": "code",
   "execution_count": 21,
   "metadata": {
    "collapsed": false
   },
   "outputs": [
    {
     "name": "stdout",
     "output_type": "stream",
     "text": [
      "R squared error :  0.9889998298306205\n"
     ]
    }
   ],
   "source": [
    "print('R squared error : ',error_score)"
   ]
  },
  {
   "cell_type": "markdown",
   "metadata": {
    "collapsed": false
   },
   "source": [
    "Taking in consideration that our dataset has values in the range of 100s, 0.98 \"R squared error\" is really less and our model is performing well"
   ]
  },
  {
   "cell_type": "markdown",
   "metadata": {
    "collapsed": false
   },
   "source": [
    "Compare actual values and predicted values"
   ]
  },
  {
   "cell_type": "code",
   "execution_count": 22,
   "metadata": {
    "collapsed": false
   },
   "outputs": [],
   "source": [
    "Y_test = list(Y_test)"
   ]
  },
  {
   "cell_type": "code",
   "execution_count": 23,
   "metadata": {
    "collapsed": false
   },
   "outputs": [
    {
     "data": {
      "image/png": "[encoded data removed]",
      "text/plain": [
       "<Figure size 432x288 with 1 Axes>"
      ]
     },
     "metadata": {},
     "output_type": "display_data"
    }
   ],
   "source": [
    "plt.plot(Y_test, color='blue', label='Actual Value')\n",
    "plt.plot(test_data_prediction, color='green', label='Predicted Value')\n",
    "plt.title('Actual Values vs Predicted Values')\n",
    "plt.xlabel('Number of values')\n",
    "plt.ylabel('GLD Price')\n",
    "plt.legend()\n",
    "plt.show()"
   ]
  },
  {
   "cell_type": "markdown",
   "metadata": {
    "collapsed": false
   },
   "source": [
    "Saving the model"
   ]
  },
  {
   "cell_type": "code",
   "execution_count": 24,
   "metadata": {
    "collapsed": false
   },
   "outputs": [],
   "source": [
    "import pickle"
   ]
  },
  {
   "cell_type": "code",
   "execution_count": 28,
   "metadata": {
    "collapsed": false
   },
   "outputs": [],
   "source": [
    "filename = 'gold_price_predictor.sav'\n",
    "pickle.dump(regressor, open(filename, 'wb'))"
   ]
  },
  {
   "cell_type": "code",
   "execution_count": 29,
   "metadata": {
    "collapsed": false
   },
   "outputs": [],
   "source": [
    "loaded_model = pickle.load(open('gold_price_predictor.sav','rb'))"
   ]
  },
  {
   "cell_type": "code",
   "execution_count": 30,
   "metadata": {
    "collapsed": false
   },
   "outputs": [],
   "source": [
    "input_data = (1447.160034,78.470001,15.18,1.471692)"
   ]
  },
  {
   "cell_type": "code",
   "execution_count": 31,
   "metadata": {
    "collapsed": false
   },
   "outputs": [
    {
     "name": "stdout",
     "output_type": "stream",
     "text": [
      "[85.08420013]\n"
     ]
    },
    {
     "name": "stderr",
     "output_type": "stream",
     "text": [
      "C:\\Users\\HP\\anaconda3\\lib\\site-packages\\sklearn\\base.py:450: UserWarning: X does not have valid feature names, but RandomForestRegressor was fitted with feature names\n",
      "  warnings.warn(\n"
     ]
    }
   ],
   "source": [
    "# changing the input_data to numpy array\n",
    "input_data_as_numpy_array = np.asarray(input_data)\n",
    "\n",
    "# reshape the array as we are predicting for one instance\n",
    "input_data_reshaped = input_data_as_numpy_array.reshape(1,-1)\n",
    "\n",
    "prediction = loaded_model.predict(input_data_reshaped)\n",
    "print(prediction)\n",
    "\n",
    "print('Gold Price according to the input data : ',prediction)"
   ]
  },
  {
   "cell_type": "code",
   "execution_count": 32,
   "metadata": {
    "collapsed": false
   },
   "outputs": [
    {
     "name": "stdout",
     "output_type": "stream",
     "text": [
      "SPX\n",
      "USO\n",
      "SLV\n",
      "EUR/USD\n"
     ]
    }
   ],
   "source": [
    "for columns in X.columns:\n",
    "    print(columns)"
   ]
  },
  {
   "cell_type": "code",
   "execution_count": null,
   "metadata": {
    "collapsed": false
   },
   "outputs": [],
   "source": []
  }
 ],
 "metadata": {
  "kernelspec": {
   "display_name": "Python 3",
   "language": "python",
   "name": "python3"
  },
  "language_info": {
   "codemirror_mode": {
    "name": "ipython",
    "version": 3
   },
   "file_extension": ".py",
   "mimetype": "text/x-python",
   "name": "python",
   "nbconvert_exporter": "python",
   "pygments_lexer": "ipython3",
   "version": "3.10.9"
  },
  "vscode": {
   "interpreter": {
    "hash": "486e0d5a79acdbfffd563ee7a67a93a5017bd2a4f66495483a69f0245c8a4a6c"
   }
  }
 },
 "nbformat": 4,
 "nbformat_minor": 5
}
